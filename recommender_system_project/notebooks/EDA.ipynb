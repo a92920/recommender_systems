{
 "cells": [
  {
   "cell_type": "code",
   "execution_count": 1,
   "metadata": {},
   "outputs": [],
   "source": [
    "%matplotlib inline\n",
    "import numpy as np\n",
    "import pandas as pd\n",
    "import ast\n",
    "import matplotlib.pyplot as plt"
   ]
  },
  {
   "cell_type": "code",
   "execution_count": 2,
   "metadata": {},
   "outputs": [
    {
     "name": "stderr",
     "output_type": "stream",
     "text": [
      "/Users/salimhuneidi/opt/anaconda3/lib/python3.7/site-packages/IPython/core/interactiveshell.py:3058: DtypeWarning: Columns (10) have mixed types. Specify dtype option on import or set low_memory=False.\n",
      "  interactivity=interactivity, compiler=compiler, result=result)\n"
     ]
    }
   ],
   "source": [
    "DATA_FOLDER = \"movies_db.nosync/\"\n",
    "movies = pd.read_csv(DATA_FOLDER+\"movies_metadata.csv\")\n",
    "ratings = pd.read_csv(DATA_FOLDER+\"ratings.csv\")\n"
   ]
  },
  {
   "cell_type": "code",
   "execution_count": 3,
   "metadata": {},
   "outputs": [
    {
     "name": "stdout",
     "output_type": "stream",
     "text": [
      "movies:  (45466, 24)\n",
      "ratings: (26024289, 4)\n"
     ]
    }
   ],
   "source": [
    "print('movies: ', movies.shape)\n",
    "print('ratings:', ratings.shape)"
   ]
  },
  {
   "cell_type": "markdown",
   "metadata": {},
   "source": [
    "# Removing Duplicates"
   ]
  },
  {
   "cell_type": "code",
   "execution_count": 4,
   "metadata": {},
   "outputs": [
    {
     "name": "stdout",
     "output_type": "stream",
     "text": [
      "ratings duplicates:  Empty DataFrame\n",
      "Columns: [userId, movieId, rating, timestamp]\n",
      "Index: []\n"
     ]
    },
    {
     "data": {
      "text/html": [
       "<div>\n",
       "<style scoped>\n",
       "    .dataframe tbody tr th:only-of-type {\n",
       "        vertical-align: middle;\n",
       "    }\n",
       "\n",
       "    .dataframe tbody tr th {\n",
       "        vertical-align: top;\n",
       "    }\n",
       "\n",
       "    .dataframe thead th {\n",
       "        text-align: right;\n",
       "    }\n",
       "</style>\n",
       "<table border=\"1\" class=\"dataframe\">\n",
       "  <thead>\n",
       "    <tr style=\"text-align: right;\">\n",
       "      <th></th>\n",
       "      <th>adult</th>\n",
       "      <th>belongs_to_collection</th>\n",
       "      <th>budget</th>\n",
       "      <th>genres</th>\n",
       "      <th>homepage</th>\n",
       "      <th>id</th>\n",
       "      <th>imdb_id</th>\n",
       "      <th>original_language</th>\n",
       "      <th>original_title</th>\n",
       "      <th>overview</th>\n",
       "      <th>...</th>\n",
       "      <th>release_date</th>\n",
       "      <th>revenue</th>\n",
       "      <th>runtime</th>\n",
       "      <th>spoken_languages</th>\n",
       "      <th>status</th>\n",
       "      <th>tagline</th>\n",
       "      <th>title</th>\n",
       "      <th>video</th>\n",
       "      <th>vote_average</th>\n",
       "      <th>vote_count</th>\n",
       "    </tr>\n",
       "  </thead>\n",
       "  <tbody>\n",
       "    <tr>\n",
       "      <td>1465</td>\n",
       "      <td>False</td>\n",
       "      <td>NaN</td>\n",
       "      <td>0</td>\n",
       "      <td>[{'id': 18, 'name': 'Drama'}, {'id': 10749, 'n...</td>\n",
       "      <td>NaN</td>\n",
       "      <td>105045</td>\n",
       "      <td>tt0111613</td>\n",
       "      <td>de</td>\n",
       "      <td>Das Versprechen</td>\n",
       "      <td>East-Berlin, 1961, shortly after the erection ...</td>\n",
       "      <td>...</td>\n",
       "      <td>1995-02-16</td>\n",
       "      <td>0.0</td>\n",
       "      <td>115.0</td>\n",
       "      <td>[{'iso_639_1': 'de', 'name': 'Deutsch'}]</td>\n",
       "      <td>Released</td>\n",
       "      <td>A love, a hope, a wall.</td>\n",
       "      <td>The Promise</td>\n",
       "      <td>False</td>\n",
       "      <td>5.0</td>\n",
       "      <td>1.0</td>\n",
       "    </tr>\n",
       "    <tr>\n",
       "      <td>9165</td>\n",
       "      <td>False</td>\n",
       "      <td>NaN</td>\n",
       "      <td>0</td>\n",
       "      <td>[{'id': 80, 'name': 'Crime'}, {'id': 18, 'name...</td>\n",
       "      <td>NaN</td>\n",
       "      <td>5511</td>\n",
       "      <td>tt0062229</td>\n",
       "      <td>fr</td>\n",
       "      <td>Le Samouraï</td>\n",
       "      <td>Hitman Jef Costello is a perfectionist who alw...</td>\n",
       "      <td>...</td>\n",
       "      <td>1967-10-25</td>\n",
       "      <td>39481.0</td>\n",
       "      <td>105.0</td>\n",
       "      <td>[{'iso_639_1': 'fr', 'name': 'Français'}]</td>\n",
       "      <td>Released</td>\n",
       "      <td>There is no solitude greater than that of the ...</td>\n",
       "      <td>Le Samouraï</td>\n",
       "      <td>False</td>\n",
       "      <td>7.9</td>\n",
       "      <td>187.0</td>\n",
       "    </tr>\n",
       "    <tr>\n",
       "      <td>9327</td>\n",
       "      <td>False</td>\n",
       "      <td>NaN</td>\n",
       "      <td>0</td>\n",
       "      <td>[{'id': 12, 'name': 'Adventure'}, {'id': 16, '...</td>\n",
       "      <td>NaN</td>\n",
       "      <td>23305</td>\n",
       "      <td>tt0295682</td>\n",
       "      <td>en</td>\n",
       "      <td>The Warrior</td>\n",
       "      <td>In feudal India, a warrior (Khan) who renounce...</td>\n",
       "      <td>...</td>\n",
       "      <td>2001-09-23</td>\n",
       "      <td>0.0</td>\n",
       "      <td>86.0</td>\n",
       "      <td>[{'iso_639_1': 'hi', 'name': 'हिन्दी'}]</td>\n",
       "      <td>Released</td>\n",
       "      <td>NaN</td>\n",
       "      <td>The Warrior</td>\n",
       "      <td>False</td>\n",
       "      <td>6.3</td>\n",
       "      <td>15.0</td>\n",
       "    </tr>\n",
       "  </tbody>\n",
       "</table>\n",
       "<p>3 rows × 24 columns</p>\n",
       "</div>"
      ],
      "text/plain": [
       "      adult belongs_to_collection budget  \\\n",
       "1465  False                   NaN      0   \n",
       "9165  False                   NaN      0   \n",
       "9327  False                   NaN      0   \n",
       "\n",
       "                                                 genres homepage      id  \\\n",
       "1465  [{'id': 18, 'name': 'Drama'}, {'id': 10749, 'n...      NaN  105045   \n",
       "9165  [{'id': 80, 'name': 'Crime'}, {'id': 18, 'name...      NaN    5511   \n",
       "9327  [{'id': 12, 'name': 'Adventure'}, {'id': 16, '...      NaN   23305   \n",
       "\n",
       "        imdb_id original_language   original_title  \\\n",
       "1465  tt0111613                de  Das Versprechen   \n",
       "9165  tt0062229                fr      Le Samouraï   \n",
       "9327  tt0295682                en      The Warrior   \n",
       "\n",
       "                                               overview  ... release_date  \\\n",
       "1465  East-Berlin, 1961, shortly after the erection ...  ...   1995-02-16   \n",
       "9165  Hitman Jef Costello is a perfectionist who alw...  ...   1967-10-25   \n",
       "9327  In feudal India, a warrior (Khan) who renounce...  ...   2001-09-23   \n",
       "\n",
       "      revenue runtime                           spoken_languages    status  \\\n",
       "1465      0.0   115.0   [{'iso_639_1': 'de', 'name': 'Deutsch'}]  Released   \n",
       "9165  39481.0   105.0  [{'iso_639_1': 'fr', 'name': 'Français'}]  Released   \n",
       "9327      0.0    86.0    [{'iso_639_1': 'hi', 'name': 'हिन्दी'}]  Released   \n",
       "\n",
       "                                                tagline        title  video  \\\n",
       "1465                            A love, a hope, a wall.  The Promise  False   \n",
       "9165  There is no solitude greater than that of the ...  Le Samouraï  False   \n",
       "9327                                                NaN  The Warrior  False   \n",
       "\n",
       "     vote_average vote_count  \n",
       "1465          5.0        1.0  \n",
       "9165          7.9      187.0  \n",
       "9327          6.3       15.0  \n",
       "\n",
       "[3 rows x 24 columns]"
      ]
     },
     "execution_count": 4,
     "metadata": {},
     "output_type": "execute_result"
    }
   ],
   "source": [
    "# ratings difficult to find duplicates or has no duplicates\n",
    "print('ratings duplicates: ',ratings[ratings[['userId','movieId']].duplicated() == True])# no duplicates \n",
    "duplicated_movies =  movies[movies[['title', 'release_date']].duplicated() == True]\n",
    "movies = movies[movies[['title']].duplicated() == False]\n",
    "duplicated_movies.head(3)"
   ]
  },
  {
   "cell_type": "markdown",
   "metadata": {},
   "source": [
    "# Most Popular Movies"
   ]
  },
  {
   "cell_type": "code",
   "execution_count": 5,
   "metadata": {},
   "outputs": [
    {
     "data": {
      "text/html": [
       "<div>\n",
       "<style scoped>\n",
       "    .dataframe tbody tr th:only-of-type {\n",
       "        vertical-align: middle;\n",
       "    }\n",
       "\n",
       "    .dataframe tbody tr th {\n",
       "        vertical-align: top;\n",
       "    }\n",
       "\n",
       "    .dataframe thead th {\n",
       "        text-align: right;\n",
       "    }\n",
       "</style>\n",
       "<table border=\"1\" class=\"dataframe\">\n",
       "  <thead>\n",
       "    <tr style=\"text-align: right;\">\n",
       "      <th></th>\n",
       "      <th>original_title</th>\n",
       "      <th>genres</th>\n",
       "      <th>popularity</th>\n",
       "    </tr>\n",
       "  </thead>\n",
       "  <tbody>\n",
       "    <tr>\n",
       "      <td>30700</td>\n",
       "      <td>Minions</td>\n",
       "      <td>[{'id': 10751, 'name': 'Family'}, {'id': 16, '...</td>\n",
       "      <td>547</td>\n",
       "    </tr>\n",
       "    <tr>\n",
       "      <td>43644</td>\n",
       "      <td>Baby Driver</td>\n",
       "      <td>[{'id': 28, 'name': 'Action'}, {'id': 80, 'nam...</td>\n",
       "      <td>228</td>\n",
       "    </tr>\n",
       "    <tr>\n",
       "      <td>24455</td>\n",
       "      <td>Big Hero 6</td>\n",
       "      <td>[{'id': 12, 'name': 'Adventure'}, {'id': 10751...</td>\n",
       "      <td>213</td>\n",
       "    </tr>\n",
       "    <tr>\n",
       "      <td>26564</td>\n",
       "      <td>Deadpool</td>\n",
       "      <td>[{'id': 28, 'name': 'Action'}, {'id': 12, 'nam...</td>\n",
       "      <td>187</td>\n",
       "    </tr>\n",
       "    <tr>\n",
       "      <td>26566</td>\n",
       "      <td>Guardians of the Galaxy Vol. 2</td>\n",
       "      <td>[{'id': 28, 'name': 'Action'}, {'id': 12, 'nam...</td>\n",
       "      <td>185</td>\n",
       "    </tr>\n",
       "  </tbody>\n",
       "</table>\n",
       "</div>"
      ],
      "text/plain": [
       "                       original_title  \\\n",
       "30700                         Minions   \n",
       "43644                     Baby Driver   \n",
       "24455                      Big Hero 6   \n",
       "26564                        Deadpool   \n",
       "26566  Guardians of the Galaxy Vol. 2   \n",
       "\n",
       "                                                  genres  popularity  \n",
       "30700  [{'id': 10751, 'name': 'Family'}, {'id': 16, '...         547  \n",
       "43644  [{'id': 28, 'name': 'Action'}, {'id': 80, 'nam...         228  \n",
       "24455  [{'id': 12, 'name': 'Adventure'}, {'id': 10751...         213  \n",
       "26564  [{'id': 28, 'name': 'Action'}, {'id': 12, 'nam...         187  \n",
       "26566  [{'id': 28, 'name': 'Action'}, {'id': 12, 'nam...         185  "
      ]
     },
     "execution_count": 5,
     "metadata": {},
     "output_type": "execute_result"
    }
   ],
   "source": [
    "movies = movies[movies['popularity'].isna() == False]\n",
    "movies['popularity'] = movies['popularity'].astype(float).astype('int32')\n",
    "movies[['original_title', 'genres', 'popularity']].sort_values(by=['popularity'], ascending= False).head(5)"
   ]
  },
  {
   "cell_type": "markdown",
   "metadata": {},
   "source": [
    "# Movies with biggest budgets and runtime "
   ]
  },
  {
   "cell_type": "code",
   "execution_count": 24,
   "metadata": {},
   "outputs": [
    {
     "data": {
      "text/html": [
       "<div>\n",
       "<style scoped>\n",
       "    .dataframe tbody tr th:only-of-type {\n",
       "        vertical-align: middle;\n",
       "    }\n",
       "\n",
       "    .dataframe tbody tr th {\n",
       "        vertical-align: top;\n",
       "    }\n",
       "\n",
       "    .dataframe thead th {\n",
       "        text-align: right;\n",
       "    }\n",
       "</style>\n",
       "<table border=\"1\" class=\"dataframe\">\n",
       "  <thead>\n",
       "    <tr style=\"text-align: right;\">\n",
       "      <th></th>\n",
       "      <th>original_title</th>\n",
       "      <th>budget</th>\n",
       "      <th>runtime</th>\n",
       "    </tr>\n",
       "  </thead>\n",
       "  <tbody>\n",
       "    <tr>\n",
       "      <td>34215</td>\n",
       "      <td>The Peanuts Movie</td>\n",
       "      <td>99000000</td>\n",
       "      <td>88.0</td>\n",
       "    </tr>\n",
       "    <tr>\n",
       "      <td>39842</td>\n",
       "      <td>Unfriend</td>\n",
       "      <td>9900000</td>\n",
       "      <td>92.0</td>\n",
       "    </tr>\n",
       "    <tr>\n",
       "      <td>39688</td>\n",
       "      <td>Don't Breathe</td>\n",
       "      <td>9900000</td>\n",
       "      <td>88.0</td>\n",
       "    </tr>\n",
       "    <tr>\n",
       "      <td>39793</td>\n",
       "      <td>Elle</td>\n",
       "      <td>9804690</td>\n",
       "      <td>130.0</td>\n",
       "    </tr>\n",
       "    <tr>\n",
       "      <td>4142</td>\n",
       "      <td>The Mummy Returns</td>\n",
       "      <td>98000000</td>\n",
       "      <td>130.0</td>\n",
       "    </tr>\n",
       "    <tr>\n",
       "      <td>14</td>\n",
       "      <td>Cutthroat Island</td>\n",
       "      <td>98000000</td>\n",
       "      <td>119.0</td>\n",
       "    </tr>\n",
       "    <tr>\n",
       "      <td>3424</td>\n",
       "      <td>What Ever Happened to Baby Jane?</td>\n",
       "      <td>980000</td>\n",
       "      <td>135.0</td>\n",
       "    </tr>\n",
       "    <tr>\n",
       "      <td>13331</td>\n",
       "      <td>The Lazarus Project</td>\n",
       "      <td>9750000</td>\n",
       "      <td>99.0</td>\n",
       "    </tr>\n",
       "    <tr>\n",
       "      <td>14710</td>\n",
       "      <td>Astérix aux Jeux Olympiques</td>\n",
       "      <td>97250400</td>\n",
       "      <td>116.0</td>\n",
       "    </tr>\n",
       "    <tr>\n",
       "      <td>42902</td>\n",
       "      <td>Alien: Covenant</td>\n",
       "      <td>97000000</td>\n",
       "      <td>122.0</td>\n",
       "    </tr>\n",
       "    <tr>\n",
       "      <td>15186</td>\n",
       "      <td>Four Lions</td>\n",
       "      <td>967686</td>\n",
       "      <td>101.0</td>\n",
       "    </tr>\n",
       "    <tr>\n",
       "      <td>35085</td>\n",
       "      <td>Truth</td>\n",
       "      <td>9600000</td>\n",
       "      <td>121.0</td>\n",
       "    </tr>\n",
       "    <tr>\n",
       "      <td>1897</td>\n",
       "      <td>The Mask of Zorro</td>\n",
       "      <td>95000000</td>\n",
       "      <td>136.0</td>\n",
       "    </tr>\n",
       "    <tr>\n",
       "      <td>14841</td>\n",
       "      <td>Percy Jackson &amp; the Olympians: The Lightning T...</td>\n",
       "      <td>95000000</td>\n",
       "      <td>118.0</td>\n",
       "    </tr>\n",
       "    <tr>\n",
       "      <td>6415</td>\n",
       "      <td>Lara Croft Tomb Raider: The Cradle of Life</td>\n",
       "      <td>95000000</td>\n",
       "      <td>117.0</td>\n",
       "    </tr>\n",
       "    <tr>\n",
       "      <td>3703</td>\n",
       "      <td>Hollow Man</td>\n",
       "      <td>95000000</td>\n",
       "      <td>112.0</td>\n",
       "    </tr>\n",
       "    <tr>\n",
       "      <td>25622</td>\n",
       "      <td>Seventh Son</td>\n",
       "      <td>95000000</td>\n",
       "      <td>102.0</td>\n",
       "    </tr>\n",
       "    <tr>\n",
       "      <td>3362</td>\n",
       "      <td>The Road to El Dorado</td>\n",
       "      <td>95000000</td>\n",
       "      <td>89.0</td>\n",
       "    </tr>\n",
       "    <tr>\n",
       "      <td>19139</td>\n",
       "      <td>Ice Age: Continental Drift</td>\n",
       "      <td>95000000</td>\n",
       "      <td>88.0</td>\n",
       "    </tr>\n",
       "    <tr>\n",
       "      <td>19505</td>\n",
       "      <td>Laurence Anyways</td>\n",
       "      <td>9500000</td>\n",
       "      <td>168.0</td>\n",
       "    </tr>\n",
       "  </tbody>\n",
       "</table>\n",
       "</div>"
      ],
      "text/plain": [
       "                                          original_title    budget  runtime\n",
       "34215                                  The Peanuts Movie  99000000     88.0\n",
       "39842                                           Unfriend   9900000     92.0\n",
       "39688                                      Don't Breathe   9900000     88.0\n",
       "39793                                               Elle   9804690    130.0\n",
       "4142                                   The Mummy Returns  98000000    130.0\n",
       "14                                      Cutthroat Island  98000000    119.0\n",
       "3424                    What Ever Happened to Baby Jane?    980000    135.0\n",
       "13331                                The Lazarus Project   9750000     99.0\n",
       "14710                        Astérix aux Jeux Olympiques  97250400    116.0\n",
       "42902                                    Alien: Covenant  97000000    122.0\n",
       "15186                                         Four Lions    967686    101.0\n",
       "35085                                              Truth   9600000    121.0\n",
       "1897                                   The Mask of Zorro  95000000    136.0\n",
       "14841  Percy Jackson & the Olympians: The Lightning T...  95000000    118.0\n",
       "6415          Lara Croft Tomb Raider: The Cradle of Life  95000000    117.0\n",
       "3703                                          Hollow Man  95000000    112.0\n",
       "25622                                        Seventh Son  95000000    102.0\n",
       "3362                               The Road to El Dorado  95000000     89.0\n",
       "19139                         Ice Age: Continental Drift  95000000     88.0\n",
       "19505                                   Laurence Anyways   9500000    168.0"
      ]
     },
     "execution_count": 24,
     "metadata": {},
     "output_type": "execute_result"
    }
   ],
   "source": [
    "movies[['original_title','budget','runtime']].sort_values(by=['budget', 'runtime'], ascending= False).head(20)"
   ]
  },
  {
   "cell_type": "markdown",
   "metadata": {},
   "source": [
    "# Movie Genres"
   ]
  },
  {
   "cell_type": "code",
   "execution_count": 7,
   "metadata": {},
   "outputs": [
    {
     "data": {
      "text/plain": [
       "array(['Animation', 'Comedy', 'Family', 'Adventure', 'Fantasy', 'Romance',\n",
       "       'Drama', 'Action', 'Crime', 'Thriller', 'Horror', 'History',\n",
       "       'Science Fiction', 'Mystery', 'War', 'Foreign', 'Music',\n",
       "       'Documentary', 'Western', 'TV Movie'], dtype=object)"
      ]
     },
     "execution_count": 7,
     "metadata": {},
     "output_type": "execute_result"
    }
   ],
   "source": [
    "movies['genres'] = movies['genres'].fillna('[]').apply(ast.literal_eval).apply(lambda x: [i['name'] for i in x] if isinstance(x, list) else [])\n",
    "movie_genres = movies.apply(lambda x: pd.Series(x['genres']),axis=1).stack().reset_index(level=1, drop=True).unique()\n",
    "movie_genres"
   ]
  },
  {
   "cell_type": "markdown",
   "metadata": {},
   "source": [
    "# Selecting only movies with over 100 ratings "
   ]
  },
  {
   "cell_type": "code",
   "execution_count": 8,
   "metadata": {},
   "outputs": [],
   "source": [
    "movies = movies[movies['vote_count']>100]"
   ]
  },
  {
   "cell_type": "markdown",
   "metadata": {},
   "source": [
    "# Merging movies with ratings "
   ]
  },
  {
   "cell_type": "code",
   "execution_count": 9,
   "metadata": {},
   "outputs": [
    {
     "data": {
      "text/html": [
       "<div>\n",
       "<style scoped>\n",
       "    .dataframe tbody tr th:only-of-type {\n",
       "        vertical-align: middle;\n",
       "    }\n",
       "\n",
       "    .dataframe tbody tr th {\n",
       "        vertical-align: top;\n",
       "    }\n",
       "\n",
       "    .dataframe thead th {\n",
       "        text-align: right;\n",
       "    }\n",
       "</style>\n",
       "<table border=\"1\" class=\"dataframe\">\n",
       "  <thead>\n",
       "    <tr style=\"text-align: right;\">\n",
       "      <th></th>\n",
       "      <th>adult</th>\n",
       "      <th>belongs_to_collection</th>\n",
       "      <th>budget</th>\n",
       "      <th>genres</th>\n",
       "      <th>homepage</th>\n",
       "      <th>id</th>\n",
       "      <th>imdb_id</th>\n",
       "      <th>original_language</th>\n",
       "      <th>original_title</th>\n",
       "      <th>overview</th>\n",
       "      <th>...</th>\n",
       "      <th>status</th>\n",
       "      <th>tagline</th>\n",
       "      <th>title</th>\n",
       "      <th>video</th>\n",
       "      <th>vote_average</th>\n",
       "      <th>vote_count</th>\n",
       "      <th>userId</th>\n",
       "      <th>movieId</th>\n",
       "      <th>rating</th>\n",
       "      <th>timestamp</th>\n",
       "    </tr>\n",
       "  </thead>\n",
       "  <tbody>\n",
       "    <tr>\n",
       "      <td>0</td>\n",
       "      <td>False</td>\n",
       "      <td>{'id': 10194, 'name': 'Toy Story Collection', ...</td>\n",
       "      <td>30000000</td>\n",
       "      <td>[Animation, Comedy, Family]</td>\n",
       "      <td>http://toystory.disney.com/toy-story</td>\n",
       "      <td>862</td>\n",
       "      <td>tt0114709</td>\n",
       "      <td>en</td>\n",
       "      <td>Toy Story</td>\n",
       "      <td>Led by Woody, Andy's toys live happily in his ...</td>\n",
       "      <td>...</td>\n",
       "      <td>Released</td>\n",
       "      <td>NaN</td>\n",
       "      <td>Toy Story</td>\n",
       "      <td>False</td>\n",
       "      <td>7.7</td>\n",
       "      <td>5415.0</td>\n",
       "      <td>1923</td>\n",
       "      <td>862</td>\n",
       "      <td>3.0</td>\n",
       "      <td>858335006</td>\n",
       "    </tr>\n",
       "    <tr>\n",
       "      <td>1</td>\n",
       "      <td>False</td>\n",
       "      <td>{'id': 10194, 'name': 'Toy Story Collection', ...</td>\n",
       "      <td>30000000</td>\n",
       "      <td>[Animation, Comedy, Family]</td>\n",
       "      <td>http://toystory.disney.com/toy-story</td>\n",
       "      <td>862</td>\n",
       "      <td>tt0114709</td>\n",
       "      <td>en</td>\n",
       "      <td>Toy Story</td>\n",
       "      <td>Led by Woody, Andy's toys live happily in his ...</td>\n",
       "      <td>...</td>\n",
       "      <td>Released</td>\n",
       "      <td>NaN</td>\n",
       "      <td>Toy Story</td>\n",
       "      <td>False</td>\n",
       "      <td>7.7</td>\n",
       "      <td>5415.0</td>\n",
       "      <td>2103</td>\n",
       "      <td>862</td>\n",
       "      <td>5.0</td>\n",
       "      <td>946044912</td>\n",
       "    </tr>\n",
       "    <tr>\n",
       "      <td>2</td>\n",
       "      <td>False</td>\n",
       "      <td>{'id': 10194, 'name': 'Toy Story Collection', ...</td>\n",
       "      <td>30000000</td>\n",
       "      <td>[Animation, Comedy, Family]</td>\n",
       "      <td>http://toystory.disney.com/toy-story</td>\n",
       "      <td>862</td>\n",
       "      <td>tt0114709</td>\n",
       "      <td>en</td>\n",
       "      <td>Toy Story</td>\n",
       "      <td>Led by Woody, Andy's toys live happily in his ...</td>\n",
       "      <td>...</td>\n",
       "      <td>Released</td>\n",
       "      <td>NaN</td>\n",
       "      <td>Toy Story</td>\n",
       "      <td>False</td>\n",
       "      <td>7.7</td>\n",
       "      <td>5415.0</td>\n",
       "      <td>5380</td>\n",
       "      <td>862</td>\n",
       "      <td>1.0</td>\n",
       "      <td>878941641</td>\n",
       "    </tr>\n",
       "    <tr>\n",
       "      <td>3</td>\n",
       "      <td>False</td>\n",
       "      <td>{'id': 10194, 'name': 'Toy Story Collection', ...</td>\n",
       "      <td>30000000</td>\n",
       "      <td>[Animation, Comedy, Family]</td>\n",
       "      <td>http://toystory.disney.com/toy-story</td>\n",
       "      <td>862</td>\n",
       "      <td>tt0114709</td>\n",
       "      <td>en</td>\n",
       "      <td>Toy Story</td>\n",
       "      <td>Led by Woody, Andy's toys live happily in his ...</td>\n",
       "      <td>...</td>\n",
       "      <td>Released</td>\n",
       "      <td>NaN</td>\n",
       "      <td>Toy Story</td>\n",
       "      <td>False</td>\n",
       "      <td>7.7</td>\n",
       "      <td>5415.0</td>\n",
       "      <td>6177</td>\n",
       "      <td>862</td>\n",
       "      <td>4.0</td>\n",
       "      <td>859415226</td>\n",
       "    </tr>\n",
       "    <tr>\n",
       "      <td>4</td>\n",
       "      <td>False</td>\n",
       "      <td>{'id': 10194, 'name': 'Toy Story Collection', ...</td>\n",
       "      <td>30000000</td>\n",
       "      <td>[Animation, Comedy, Family]</td>\n",
       "      <td>http://toystory.disney.com/toy-story</td>\n",
       "      <td>862</td>\n",
       "      <td>tt0114709</td>\n",
       "      <td>en</td>\n",
       "      <td>Toy Story</td>\n",
       "      <td>Led by Woody, Andy's toys live happily in his ...</td>\n",
       "      <td>...</td>\n",
       "      <td>Released</td>\n",
       "      <td>NaN</td>\n",
       "      <td>Toy Story</td>\n",
       "      <td>False</td>\n",
       "      <td>7.7</td>\n",
       "      <td>5415.0</td>\n",
       "      <td>6525</td>\n",
       "      <td>862</td>\n",
       "      <td>4.0</td>\n",
       "      <td>857388995</td>\n",
       "    </tr>\n",
       "  </tbody>\n",
       "</table>\n",
       "<p>5 rows × 28 columns</p>\n",
       "</div>"
      ],
      "text/plain": [
       "   adult                              belongs_to_collection    budget  \\\n",
       "0  False  {'id': 10194, 'name': 'Toy Story Collection', ...  30000000   \n",
       "1  False  {'id': 10194, 'name': 'Toy Story Collection', ...  30000000   \n",
       "2  False  {'id': 10194, 'name': 'Toy Story Collection', ...  30000000   \n",
       "3  False  {'id': 10194, 'name': 'Toy Story Collection', ...  30000000   \n",
       "4  False  {'id': 10194, 'name': 'Toy Story Collection', ...  30000000   \n",
       "\n",
       "                        genres                              homepage   id  \\\n",
       "0  [Animation, Comedy, Family]  http://toystory.disney.com/toy-story  862   \n",
       "1  [Animation, Comedy, Family]  http://toystory.disney.com/toy-story  862   \n",
       "2  [Animation, Comedy, Family]  http://toystory.disney.com/toy-story  862   \n",
       "3  [Animation, Comedy, Family]  http://toystory.disney.com/toy-story  862   \n",
       "4  [Animation, Comedy, Family]  http://toystory.disney.com/toy-story  862   \n",
       "\n",
       "     imdb_id original_language original_title  \\\n",
       "0  tt0114709                en      Toy Story   \n",
       "1  tt0114709                en      Toy Story   \n",
       "2  tt0114709                en      Toy Story   \n",
       "3  tt0114709                en      Toy Story   \n",
       "4  tt0114709                en      Toy Story   \n",
       "\n",
       "                                            overview  ...    status tagline  \\\n",
       "0  Led by Woody, Andy's toys live happily in his ...  ...  Released     NaN   \n",
       "1  Led by Woody, Andy's toys live happily in his ...  ...  Released     NaN   \n",
       "2  Led by Woody, Andy's toys live happily in his ...  ...  Released     NaN   \n",
       "3  Led by Woody, Andy's toys live happily in his ...  ...  Released     NaN   \n",
       "4  Led by Woody, Andy's toys live happily in his ...  ...  Released     NaN   \n",
       "\n",
       "       title  video vote_average  vote_count  userId movieId rating  timestamp  \n",
       "0  Toy Story  False          7.7      5415.0    1923     862    3.0  858335006  \n",
       "1  Toy Story  False          7.7      5415.0    2103     862    5.0  946044912  \n",
       "2  Toy Story  False          7.7      5415.0    5380     862    1.0  878941641  \n",
       "3  Toy Story  False          7.7      5415.0    6177     862    4.0  859415226  \n",
       "4  Toy Story  False          7.7      5415.0    6525     862    4.0  857388995  \n",
       "\n",
       "[5 rows x 28 columns]"
      ]
     },
     "execution_count": 9,
     "metadata": {},
     "output_type": "execute_result"
    }
   ],
   "source": [
    "# merge \n",
    "movies['id']=movies['id'].astype('int64') \n",
    "movies_ratings = movies.merge(ratings, left_on=\"id\", right_on='movieId', how='inner')\n",
    "movies_ratings.head()"
   ]
  },
  {
   "cell_type": "markdown",
   "metadata": {},
   "source": [
    "# Columns Na values and drop columns not used "
   ]
  },
  {
   "cell_type": "code",
   "execution_count": 10,
   "metadata": {},
   "outputs": [
    {
     "name": "stdout",
     "output_type": "stream",
     "text": [
      "adult                          0\n",
      "belongs_to_collection    4169954\n",
      "budget                         0\n",
      "genres                         0\n",
      "homepage                 4377883\n",
      "id                             0\n",
      "imdb_id                        0\n",
      "original_language              0\n",
      "original_title                 0\n",
      "overview                       0\n",
      "popularity                     0\n",
      "poster_path                    0\n",
      "production_companies           0\n",
      "production_countries           0\n",
      "release_date                   0\n",
      "revenue                        0\n",
      "runtime                        0\n",
      "spoken_languages               0\n",
      "status                         0\n",
      "tagline                   582151\n",
      "title                          0\n",
      "video                          0\n",
      "vote_average                   0\n",
      "vote_count                     0\n",
      "userId                         0\n",
      "movieId                        0\n",
      "rating                         0\n",
      "timestamp                      0\n",
      "dtype: int64\n"
     ]
    }
   ],
   "source": [
    "print(movies_ratings.isnull().sum())\n",
    "movies_ratings = movies_ratings.drop(columns = ['adult','belongs_to_collection', 'homepage', 'imdb_id', 'original_language','overview','poster_path','timestamp','video','vote_average','tagline'])"
   ]
  },
  {
   "cell_type": "markdown",
   "metadata": {},
   "source": [
    "# Ratings Sum "
   ]
  },
  {
   "cell_type": "code",
   "execution_count": 11,
   "metadata": {},
   "outputs": [
    {
     "data": {
      "text/plain": [
       "<matplotlib.axes._subplots.AxesSubplot at 0x7f83e8e8b810>"
      ]
     },
     "execution_count": 11,
     "metadata": {},
     "output_type": "execute_result"
    },
    {
     "data": {
      "image/png": "[encoded data removed]",
      "text/plain": [
       "<Figure size 432x288 with 1 Axes>"
      ]
     },
     "metadata": {
      "needs_background": "light"
     },
     "output_type": "display_data"
    }
   ],
   "source": [
    "rating_sum = movies_ratings['rating'].value_counts(sort=False, ascending=False)\n",
    "rating_sum = rating_sum.reindex(sorted(rating_sum.index), axis=1)\n",
    "rating_sum.plot.bar()"
   ]
  },
  {
   "cell_type": "markdown",
   "metadata": {},
   "source": [
    "# movies genres"
   ]
  },
  {
   "cell_type": "code",
   "execution_count": 12,
   "metadata": {},
   "outputs": [],
   "source": [
    "genre_dict={}\n",
    "for i in movie_genres:\n",
    "    genre_dict[i]=0"
   ]
  },
  {
   "cell_type": "code",
   "execution_count": 13,
   "metadata": {},
   "outputs": [],
   "source": [
    "for i in movies['genres']:\n",
    "    for j in i:\n",
    "        genre_dict[j] +=1"
   ]
  },
  {
   "cell_type": "code",
   "execution_count": 15,
   "metadata": {},
   "outputs": [
    {
     "data": {
      "text/plain": [
       "([0, 1, 2, 3, 4, 5, 6, 7, 8, 9, 10, 11, 12, 13, 14, 15, 16, 17, 18, 19],\n",
       " <a list of 20 Text xticklabel objects>)"
      ]
     },
     "execution_count": 15,
     "metadata": {},
     "output_type": "execute_result"
    },
    {
     "data": {
      "image/png": "[encoded data removed]",
      "text/plain": [
       "<Figure size 432x288 with 1 Axes>"
      ]
     },
     "metadata": {
      "needs_background": "light"
     },
     "output_type": "display_data"
    }
   ],
   "source": [
    "plt.bar(x=genre_dict.keys(), height=genre_dict.values())\n",
    "plt.xticks(rotation=90)"
   ]
  },
  {
   "cell_type": "code",
   "execution_count": 17,
   "metadata": {},
   "outputs": [
    {
     "data": {
      "text/plain": [
       "count    2.602429e+07\n",
       "mean     3.528090e+00\n",
       "std      1.065443e+00\n",
       "min      5.000000e-01\n",
       "25%      3.000000e+00\n",
       "50%      3.500000e+00\n",
       "75%      4.000000e+00\n",
       "max      5.000000e+00\n",
       "Name: rating, dtype: float64"
      ]
     },
     "execution_count": 17,
     "metadata": {},
     "output_type": "execute_result"
    }
   ],
   "source": [
    "ratings['rating'].describe()"
   ]
  },
  {
   "cell_type": "code",
   "execution_count": null,
   "metadata": {},
   "outputs": [],
   "source": []
  },
  {
   "cell_type": "code",
   "execution_count": null,
   "metadata": {},
   "outputs": [],
   "source": []
  },
  {
   "cell_type": "code",
   "execution_count": null,
   "metadata": {},
   "outputs": [],
   "source": []
  },
  {
   "cell_type": "code",
   "execution_count": null,
   "metadata": {},
   "outputs": [],
   "source": []
  },
  {
   "cell_type": "code",
   "execution_count": null,
   "metadata": {},
   "outputs": [],
   "source": []
  },
  {
   "cell_type": "code",
   "execution_count": null,
   "metadata": {},
   "outputs": [],
   "source": []
  }
 ],
 "metadata": {
  "kernelspec": {
   "display_name": "Python 3",
   "language": "python",
   "name": "python3"
  },
  "language_info": {
   "codemirror_mode": {
    "name": "ipython",
    "version": 3
   },
   "file_extension": ".py",
   "mimetype": "text/x-python",
   "name": "python",
   "nbconvert_exporter": "python",
   "pygments_lexer": "ipython3",
   "version": "3.7.4"
  }
 },
 "nbformat": 4,
 "nbformat_minor": 2
}
